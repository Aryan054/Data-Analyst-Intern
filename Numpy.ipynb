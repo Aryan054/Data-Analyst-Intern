{
  "cells": [
    {
      "cell_type": "code",
      "execution_count": null,
      "metadata": {
        "id": "8cl_7yQxHYGE"
      },
      "outputs": [],
      "source": [
        "import numpy as np"
      ]
    },
    {
      "cell_type": "code",
      "execution_count": null,
      "metadata": {
        "colab": {
          "base_uri": "https://localhost:8080/"
        },
        "id": "Rm-hokF5Hb6v",
        "outputId": "ac40cd97-830a-4144-8841-fd17d7b6dc92"
      },
      "outputs": [
        {
          "data": {
            "text/plain": [
              "array([ 1,  2,  3, 45])"
            ]
          },
          "execution_count": 4,
          "metadata": {},
          "output_type": "execute_result"
        }
      ],
      "source": [
        "#1D array\n",
        "arr = np.array([1,2,3,45])\n",
        "arr"
      ]
    },
    {
      "cell_type": "code",
      "execution_count": null,
      "metadata": {
        "colab": {
          "base_uri": "https://localhost:8080/"
        },
        "id": "7DDb8HNDHnZ4",
        "outputId": "76c484e5-f20c-4486-e357-58cf1edaef48"
      },
      "outputs": [
        {
          "data": {
            "text/plain": [
              "numpy.ndarray"
            ]
          },
          "execution_count": 5,
          "metadata": {},
          "output_type": "execute_result"
        }
      ],
      "source": [
        "type(arr)"
      ]
    },
    {
      "cell_type": "code",
      "execution_count": null,
      "metadata": {
        "colab": {
          "base_uri": "https://localhost:8080/"
        },
        "id": "NvizcC-3Hv56",
        "outputId": "d25edbd6-b178-4bbe-8b1a-b5791989bf8c"
      },
      "outputs": [
        {
          "data": {
            "text/plain": [
              "array([1, 2, 3, 4])"
            ]
          },
          "execution_count": 6,
          "metadata": {},
          "output_type": "execute_result"
        }
      ],
      "source": [
        "arr1 = np.array((1,2,3,4))\n",
        "arr1"
      ]
    },
    {
      "cell_type": "code",
      "execution_count": null,
      "metadata": {
        "colab": {
          "base_uri": "https://localhost:8080/"
        },
        "id": "BPDtYxg5H7r4",
        "outputId": "e08b5823-da0a-44ba-96aa-f86f4319d4ec"
      },
      "outputs": [
        {
          "data": {
            "text/plain": [
              "array([[1, 2, 3],\n",
              "       [4, 5, 6]])"
            ]
          },
          "execution_count": 7,
          "metadata": {},
          "output_type": "execute_result"
        }
      ],
      "source": [
        "#2d Array\n",
        "a = np.array([[1,2,3], [4,5,6]])\n",
        "a"
      ]
    },
    {
      "cell_type": "code",
      "execution_count": null,
      "metadata": {
        "colab": {
          "base_uri": "https://localhost:8080/"
        },
        "id": "oR0UEClbIJsS",
        "outputId": "46512713-63b9-457b-8db8-49ec6bb53640"
      },
      "outputs": [
        {
          "name": "stdout",
          "output_type": "stream",
          "text": [
            "3\n"
          ]
        }
      ],
      "source": [
        "# 3D Array\n",
        "b = np.array([[[1,2,3], [4,5,6]],[[7,8,9],[10,11,12]]])\n",
        "print(b.ndim) # it will represent dimentions"
      ]
    },
    {
      "cell_type": "code",
      "execution_count": null,
      "metadata": {
        "colab": {
          "base_uri": "https://localhost:8080/"
        },
        "id": "BOG-Ga3vIuav",
        "outputId": "bd2fb024-57a7-4471-9530-f4b1d030fa93"
      },
      "outputs": [
        {
          "name": "stdout",
          "output_type": "stream",
          "text": [
            "[[[[[1 2 3 4]]]]]\n",
            "5\n"
          ]
        }
      ],
      "source": [
        "#ndmin\n",
        "c = np.array([1,2,3,4], ndmin=5) # number of dimentions\n",
        "print(c)\n",
        "print(c.ndim)"
      ]
    },
    {
      "cell_type": "code",
      "execution_count": null,
      "metadata": {
        "colab": {
          "base_uri": "https://localhost:8080/"
        },
        "id": "NWBkJZk4JQ75",
        "outputId": "2b8d8f10-eb64-41a1-99b6-21c9940406cc"
      },
      "outputs": [
        {
          "name": "stdout",
          "output_type": "stream",
          "text": [
            "2\n",
            "[1 2 3 4]\n",
            "[1 3 5]\n",
            "7\n"
          ]
        }
      ],
      "source": [
        "# Indexing\n",
        "d = np.array([1,2,3,4,5])\n",
        "print(d[1])\n",
        "print(d[0:4])\n",
        "print(d[0:5:2])\n",
        "print(d[1] + d[4]) # it will take 1st index possion 2 and 4 index possion 5 add add them and get 7 , (2+5) = 7"
      ]
    },
    {
      "cell_type": "code",
      "execution_count": null,
      "metadata": {
        "colab": {
          "base_uri": "https://localhost:8080/"
        },
        "id": "7E9Xg4yxKXk-",
        "outputId": "8270ba81-ee0f-486f-d2ab-85c24b2e7f0c"
      },
      "outputs": [
        {
          "name": "stdout",
          "output_type": "stream",
          "text": [
            "2\n",
            "8\n"
          ]
        }
      ],
      "source": [
        "e = np.array([[1,2,3,4], [5,6,7,8]])\n",
        "print(e[0, 1]) # in that it will take a dimention as index and provide output regarding that\n",
        "print(e[1,3]) # 1 represent second dimention and comma latter repsent that dimention index possition"
      ]
    },
    {
      "cell_type": "code",
      "execution_count": null,
      "metadata": {
        "colab": {
          "base_uri": "https://localhost:8080/"
        },
        "id": "lUtQgl5cLPQj",
        "outputId": "4bb9e730-f777-4e3c-daa8-72ca82dc5b71"
      },
      "outputs": [
        {
          "name": "stdout",
          "output_type": "stream",
          "text": [
            "6\n",
            "98\n",
            "9\n"
          ]
        }
      ],
      "source": [
        "f = np.array([[[1,2,3],[4,5,6],[32,45,78]], [[7,8,9],[10,11,12],[23,98,4]]])\n",
        "print(f[0,1,2])\n",
        "print(f[1,2,1])\n",
        "print(f[-1,-3,-1])"
      ]
    },
    {
      "cell_type": "code",
      "execution_count": null,
      "metadata": {
        "colab": {
          "base_uri": "https://localhost:8080/"
        },
        "id": "Ug8Azf9GMXl_",
        "outputId": "cfe82f9c-2ea5-4aeb-9a6e-57f7c7312abc"
      },
      "outputs": [
        {
          "name": "stdout",
          "output_type": "stream",
          "text": [
            "[[ 5  7  8  9 10]]\n",
            "[[1 2 3 4 5]]\n",
            "[[1 2 3 4 5]]\n",
            "[[1 2 3 4 5]]\n"
          ]
        }
      ],
      "source": [
        "#sliing\n",
        "g = np.array([[1,2,3,4,5],\n",
        "              [5,7,8,9,10]])\n",
        "print(g[1:4])\n",
        "print(g[:-1])\n",
        "print(g[-3:-1])\n",
        "print(g[-5:-1:2])"
      ]
    },
    {
      "cell_type": "code",
      "execution_count": null,
      "metadata": {
        "colab": {
          "base_uri": "https://localhost:8080/"
        },
        "id": "n4Ya8fJTOX-y",
        "outputId": "9f3cd759-ea5f-4d15-d57d-8b894a0900d0"
      },
      "outputs": [
        {
          "name": "stdout",
          "output_type": "stream",
          "text": [
            "[2 3 4]\n"
          ]
        }
      ],
      "source": [
        "print(g[0,1:4])"
      ]
    },
    {
      "cell_type": "code",
      "execution_count": null,
      "metadata": {
        "colab": {
          "base_uri": "https://localhost:8080/"
        },
        "id": "bBca7NZ2PjHB",
        "outputId": "50f201a0-9357-494b-ae60-4554a747e082"
      },
      "outputs": [
        {
          "name": "stdout",
          "output_type": "stream",
          "text": [
            "(2, 5)\n"
          ]
        }
      ],
      "source": [
        "print(g.shape)"
      ]
    },
    {
      "cell_type": "code",
      "execution_count": null,
      "metadata": {
        "colab": {
          "base_uri": "https://localhost:8080/"
        },
        "id": "xCV37rbPSs70",
        "outputId": "379d2f39-e332-4f0d-e7d1-d0e7785cb7f2"
      },
      "outputs": [
        {
          "name": "stdout",
          "output_type": "stream",
          "text": [
            "[[ 1  2]\n",
            " [ 3  4]\n",
            " [ 5  5]\n",
            " [ 7  8]\n",
            " [ 9 10]]\n"
          ]
        }
      ],
      "source": [
        "print(g.reshape(5,2))"
      ]
    },
    {
      "cell_type": "code",
      "execution_count": null,
      "metadata": {
        "colab": {
          "base_uri": "https://localhost:8080/"
        },
        "id": "YeZvEYlFS7qS",
        "outputId": "b83bc3d6-afe7-457e-ebd7-e2ba8fa91e35"
      },
      "outputs": [
        {
          "name": "stdout",
          "output_type": "stream",
          "text": [
            "[1 3]\n"
          ]
        }
      ],
      "source": [
        "print(np.arange(1,5,2))"
      ]
    },
    {
      "cell_type": "code",
      "execution_count": null,
      "metadata": {
        "colab": {
          "base_uri": "https://localhost:8080/"
        },
        "id": "mCjPNQL1TIV_",
        "outputId": "3050d9b1-4525-43c5-f30f-0ec0651a1c81"
      },
      "outputs": [
        {
          "name": "stdout",
          "output_type": "stream",
          "text": [
            "[ 1  2  3  4  5  5  7  8  9 10]\n"
          ]
        }
      ],
      "source": [
        "print(g.reshape(-1))"
      ]
    },
    {
      "cell_type": "code",
      "execution_count": null,
      "metadata": {
        "colab": {
          "base_uri": "https://localhost:8080/"
        },
        "id": "ght4g3DDTg7w",
        "outputId": "71d09253-3d91-4e99-c6fb-c08b6bcfac41"
      },
      "outputs": [
        {
          "name": "stdout",
          "output_type": "stream",
          "text": [
            "[[[0. 0. 0. 0. 0.]\n",
            "  [0. 0. 0. 0. 0.]]\n",
            "\n",
            " [[0. 0. 0. 0. 0.]\n",
            "  [0. 0. 0. 0. 0.]]\n",
            "\n",
            " [[0. 0. 0. 0. 0.]\n",
            "  [0. 0. 0. 0. 0.]]]\n"
          ]
        }
      ],
      "source": [
        "h = np.zeros((3,2,5))\n",
        "print(h)"
      ]
    },
    {
      "cell_type": "code",
      "execution_count": null,
      "metadata": {
        "colab": {
          "base_uri": "https://localhost:8080/"
        },
        "id": "v1wnsf6qTzAH",
        "outputId": "932f637a-811a-4f90-eb7b-10c454d5339b"
      },
      "outputs": [
        {
          "name": "stdout",
          "output_type": "stream",
          "text": [
            "[[[1. 1. 1. 1. 1.]\n",
            "  [1. 1. 1. 1. 1.]]\n",
            "\n",
            " [[1. 1. 1. 1. 1.]\n",
            "  [1. 1. 1. 1. 1.]]\n",
            "\n",
            " [[1. 1. 1. 1. 1.]\n",
            "  [1. 1. 1. 1. 1.]]]\n"
          ]
        }
      ],
      "source": [
        "h = np.ones((3,2,5))\n",
        "print(h)"
      ]
    },
    {
      "cell_type": "code",
      "execution_count": null,
      "metadata": {
        "colab": {
          "base_uri": "https://localhost:8080/"
        },
        "id": "j8LreYjGUNqh",
        "outputId": "a73c5e42-9e94-40c0-8d2e-a5480e0ce641"
      },
      "outputs": [
        {
          "name": "stdout",
          "output_type": "stream",
          "text": [
            "[[1. 0. 0. 0. 0. 0.]\n",
            " [0. 1. 0. 0. 0. 0.]\n",
            " [0. 0. 1. 0. 0. 0.]\n",
            " [0. 0. 0. 1. 0. 0.]\n",
            " [0. 0. 0. 0. 1. 0.]\n",
            " [0. 0. 0. 0. 0. 1.]]\n"
          ]
        }
      ],
      "source": [
        "i = np.identity(6) # used to create identity matrix\n",
        "print(i)"
      ]
    },
    {
      "cell_type": "code",
      "execution_count": null,
      "metadata": {
        "colab": {
          "base_uri": "https://localhost:8080/"
        },
        "id": "LcmYj5WNUhpN",
        "outputId": "e4c11925-f402-47dd-af18-7922d5ccd8f7"
      },
      "outputs": [
        {
          "output_type": "stream",
          "name": "stdout",
          "text": [
            "[ 1.  3.  5.  7.  9. 11.]\n"
          ]
        }
      ],
      "source": [
        "i = np.linspace(1,11,6)\n",
        "print(i)"
      ]
    },
    {
      "cell_type": "code",
      "execution_count": null,
      "metadata": {
        "id": "WQdurC_3U45l",
        "colab": {
          "base_uri": "https://localhost:8080/"
        },
        "outputId": "e5be4063-ade4-45e0-a8a3-3f9365aae29d"
      },
      "outputs": [
        {
          "output_type": "stream",
          "name": "stdout",
          "text": [
            "[[1 0 0 0]\n",
            " [0 2 0 0]\n",
            " [0 0 3 0]\n",
            " [0 0 0 4]]\n"
          ]
        }
      ],
      "source": [
        "i = np.diag([1,2,3,4])\n",
        "print(i)"
      ]
    },
    {
      "cell_type": "code",
      "source": [
        "j = np.random.randint(1,11,4)\n",
        "print(j)"
      ],
      "metadata": {
        "colab": {
          "base_uri": "https://localhost:8080/"
        },
        "id": "JxommeOcVnUH",
        "outputId": "2290d608-be3d-4357-e7c1-298039d911e9"
      },
      "execution_count": null,
      "outputs": [
        {
          "output_type": "stream",
          "name": "stdout",
          "text": [
            "[5 8 2 7]\n"
          ]
        }
      ]
    },
    {
      "cell_type": "code",
      "source": [
        "j = np.random.rand(5) # generate random values between o to 1 in floation points\n",
        "print(j)"
      ],
      "metadata": {
        "colab": {
          "base_uri": "https://localhost:8080/"
        },
        "id": "lHEbLQFIV_XB",
        "outputId": "aa8ae00d-162c-4c4b-a2d8-f6a272caaa8c"
      },
      "execution_count": null,
      "outputs": [
        {
          "output_type": "stream",
          "name": "stdout",
          "text": [
            "[0.96292586 0.47574704 0.97358956 0.71466583 0.14610308]\n"
          ]
        }
      ]
    },
    {
      "cell_type": "code",
      "source": [
        "j = np.random.randn(4) # it will generate values between -0 to -1\n",
        "print(j)"
      ],
      "metadata": {
        "colab": {
          "base_uri": "https://localhost:8080/"
        },
        "id": "5e9gRCU3WNWq",
        "outputId": "0c2caf99-33b5-4960-d70f-666c01e295ff"
      },
      "execution_count": null,
      "outputs": [
        {
          "output_type": "stream",
          "name": "stdout",
          "text": [
            "[-1.15467165 -1.25132355 -0.26845206 -1.09096379]\n"
          ]
        }
      ]
    },
    {
      "cell_type": "code",
      "source": [
        "# copy\n",
        "a = [1,2,3,4]\n",
        "b = a.copy()\n",
        "a[2] = 11\n",
        "print(a)\n",
        "print(b)"
      ],
      "metadata": {
        "colab": {
          "base_uri": "https://localhost:8080/"
        },
        "id": "2NMphE9yWYTQ",
        "outputId": "3709a138-c9b6-4ee9-fc3b-74f86a45612a"
      },
      "execution_count": null,
      "outputs": [
        {
          "output_type": "stream",
          "name": "stdout",
          "text": [
            "[1, 2, 11, 4]\n",
            "[1, 2, 3, 4]\n"
          ]
        }
      ]
    },
    {
      "cell_type": "code",
      "source": [
        "print(j.min())\n",
        "print(j.max())\n",
        "print(j.mean())\n",
        "print(j.sum())\n",
        "print(j.std())\n",
        "print(j.var())\n",
        "print(j.cumsum())\n",
        "print(j.cumprod())\n",
        "print(j.argmin())\n",
        "print(j.argmax())\n",
        "print(j.argsort())"
      ],
      "metadata": {
        "colab": {
          "base_uri": "https://localhost:8080/"
        },
        "id": "QO_B-C1tXEIA",
        "outputId": "0081bf3c-d517-4baa-e051-b30d48e2cc3b"
      },
      "execution_count": null,
      "outputs": [
        {
          "output_type": "stream",
          "name": "stdout",
          "text": [
            "-1.2513235533729217\n",
            "-0.2684520584533694\n",
            "-0.9413527622687874\n",
            "-3.7654110490751496\n",
            "0.39267214544534357\n",
            "0.15419141380864904\n",
            "[-1.15467165 -2.4059952  -2.67444726 -3.76541105]\n",
            "[-1.15467165  1.44486783 -0.38787774  0.42316057]\n",
            "1\n",
            "2\n",
            "[1 0 3 2]\n"
          ]
        }
      ]
    },
    {
      "cell_type": "code",
      "source": [
        "from scipy.optimize import minimize\n",
        "\n",
        "def eqn(x):\n",
        "  return x**2 + x + 2\n",
        "\n",
        "mymin = minimize(eqn, 0, method='BFGS')\n",
        "\n",
        "print(mymin)"
      ],
      "metadata": {
        "colab": {
          "base_uri": "https://localhost:8080/"
        },
        "id": "9sOk8Ml_YBsZ",
        "outputId": "1ebf00ff-227f-4895-d7a7-f90198ddfdd7"
      },
      "execution_count": null,
      "outputs": [
        {
          "output_type": "stream",
          "name": "stdout",
          "text": [
            "  message: Optimization terminated successfully.\n",
            "  success: True\n",
            "   status: 0\n",
            "      fun: 1.75\n",
            "        x: [-5.000e-01]\n",
            "      nit: 2\n",
            "      jac: [ 0.000e+00]\n",
            " hess_inv: [[ 5.000e-01]]\n",
            "     nfev: 8\n",
            "     njev: 4\n"
          ]
        }
      ]
    },
    {
      "cell_type": "code",
      "source": [
        "import numpy as np\n",
        "from scipy.sparse import csr_matrix\n",
        "\n",
        "arr = np.array([[1,0,0],[0,0,1],[0,2,1]])\n",
        "mat = csr_matrix(arr).tocsc()\n",
        "\n",
        "print(mat)"
      ],
      "metadata": {
        "colab": {
          "base_uri": "https://localhost:8080/"
        },
        "id": "1_0Wxe6rOrEZ",
        "outputId": "53bbeb1c-14c5-4e51-b8d5-43294eebb302"
      },
      "execution_count": null,
      "outputs": [
        {
          "output_type": "stream",
          "name": "stdout",
          "text": [
            "<Compressed Sparse Column sparse matrix of dtype 'int64'\n",
            "\twith 4 stored elements and shape (3, 3)>\n",
            "  Coords\tValues\n",
            "  (0, 0)\t1\n",
            "  (2, 1)\t2\n",
            "  (1, 2)\t1\n",
            "  (2, 2)\t1\n"
          ]
        }
      ]
    },
    {
      "cell_type": "code",
      "source": [
        "from scipy.sparse.csgraph import breadth_first_order\n",
        "from scipy.sparse import csr_matrix\n",
        "\n",
        "arr = np.array([\n",
        "    [1,0,1],\n",
        "    [1,0,0],\n",
        "    [1,0,2]\n",
        "])\n",
        "\n",
        "newarr = csr_matrix(arr)\n",
        "print(breadth_first_order(newarr, 1))"
      ],
      "metadata": {
        "colab": {
          "base_uri": "https://localhost:8080/"
        },
        "id": "zAeFLr3ZXWpH",
        "outputId": "2cb00463-1e8c-48a2-f6a5-677a33075532"
      },
      "execution_count": null,
      "outputs": [
        {
          "output_type": "stream",
          "name": "stdout",
          "text": [
            "(array([1, 0, 2], dtype=int32), array([    1, -9999,     0], dtype=int32))\n"
          ]
        }
      ]
    },
    {
      "cell_type": "code",
      "source": [
        "import numpy as np\n",
        "from scipy.spatial import Delaunay\n",
        "import matplotlib.pyplot as plt\n",
        "\n",
        "points = np.array([\n",
        "    [1,0],\n",
        "    [1,1],\n",
        "    [1,2],\n",
        "    [1,3],\n",
        "    [3,1.5]\n",
        "])\n",
        "\n",
        "simplices = Delaunay(points).simplices\n",
        "\n",
        "plt.triplot(points[:, 0], points[:, 1], simplices)\n",
        "plt.scatter(points[:, 0], points[:, 1], color='r')\n",
        "\n",
        "plt.show()"
      ],
      "metadata": {
        "colab": {
          "base_uri": "https://localhost:8080/",
          "height": 430
        },
        "id": "XjxPC2ZQnEB5",
        "outputId": "a18c7de6-ba73-4f73-bbc1-da6851487704"
      },
      "execution_count": null,
      "outputs": [
        {
          "output_type": "display_data",
          "data": {
            "text/plain": [
              "<Figure size 640x480 with 1 Axes>"
            ],
            "image/png": "[encoded data removed]"
          },
          "metadata": {}
        }
      ]
    },
    {
      "cell_type": "code",
      "source": [],
      "metadata": {
        "id": "cC0Oz9YsnkH1"
      },
      "execution_count": null,
      "outputs": []
    }
  ],
  "metadata": {
    "colab": {
      "provenance": []
    },
    "kernelspec": {
      "display_name": "Python 3",
      "name": "python3"
    },
    "language_info": {
      "name": "python"
    }
  },
  "nbformat": 4,
  "nbformat_minor": 0
}